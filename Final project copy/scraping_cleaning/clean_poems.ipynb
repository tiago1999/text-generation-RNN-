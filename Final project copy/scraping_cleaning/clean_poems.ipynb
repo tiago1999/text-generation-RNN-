{
 "cells": [
  {
   "cell_type": "code",
   "execution_count": 1,
   "metadata": {},
   "outputs": [],
   "source": [
    "import pandas as pd"
   ]
  },
  {
   "cell_type": "code",
   "execution_count": 4,
   "metadata": {},
   "outputs": [],
   "source": [
    "scraped = pd.read_csv('/Users/tiagoornelas/Downloads/PoetryFoundationData.csv')"
   ]
  },
  {
   "cell_type": "code",
   "execution_count": 5,
   "metadata": {},
   "outputs": [],
   "source": [
    "import regex as re\n",
    "\n",
    "def numbers (row):\n",
    "    \n",
    "    return row.replace('\\n', ' ').strip().replace('\\r', '')\n",
    "        \n",
    "     \n",
    "\n",
    "scraped_poems = scraped['Poem'].apply(numbers)\n",
    "\n",
    "def remove_spaces (row):\n",
    "    \n",
    "    return ' '.join(row.split())\n",
    "\n",
    "new_scraped = scraped_poems.apply(numbers)"
   ]
  },
  {
   "cell_type": "code",
   "execution_count": 6,
   "metadata": {},
   "outputs": [],
   "source": [
    "import re\n",
    "def remove_spaces (row):\n",
    "    \n",
    "    return re.sub(' +', ' ', row)\n",
    "\n",
    "new_scraped = scraped_poems.apply(remove_spaces)"
   ]
  },
  {
   "cell_type": "code",
   "execution_count": 101,
   "metadata": {},
   "outputs": [],
   "source": [
    "scraped_poems.to_csv('scraped_rnn.csv')"
   ]
  },
  {
   "cell_type": "code",
   "execution_count": null,
   "metadata": {},
   "outputs": [],
   "source": []
  }
 ],
 "metadata": {
  "kernelspec": {
   "display_name": "Python 3.9.13 ('ironclasses')",
   "language": "python",
   "name": "python3"
  },
  "language_info": {
   "codemirror_mode": {
    "name": "ipython",
    "version": 3
   },
   "file_extension": ".py",
   "mimetype": "text/x-python",
   "name": "python",
   "nbconvert_exporter": "python",
   "pygments_lexer": "ipython3",
   "version": "3.9.13"
  },
  "orig_nbformat": 4,
  "vscode": {
   "interpreter": {
    "hash": "5bfe8cd4d37db90c8b9468f14ce817f9cd906576255a34a1d0cefacef45ef3b9"
   }
  }
 },
 "nbformat": 4,
 "nbformat_minor": 2
}
