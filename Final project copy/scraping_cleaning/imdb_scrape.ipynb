{
 "cells": [
  {
   "cell_type": "code",
   "execution_count": 83,
   "metadata": {},
   "outputs": [],
   "source": [
    "from bs4 import BeautifulSoup\n",
    "import requests\n",
    "import pandas as pd\n",
    "import numpy as np\n",
    "import time \n",
    "import string\n",
    "import random"
   ]
  },
  {
   "cell_type": "code",
   "execution_count": 94,
   "metadata": {},
   "outputs": [],
   "source": [
    "pages = np.arange(50, 10000, 50) + 1\n",
    "\n",
    "romance_descriptions = []\n",
    "for i in pages:\n",
    "    time.sleep(random.randint(2,4))\n",
    "\n",
    "    url = 'https://www.imdb.com/search/title/?genres=romance&start={i}&explore=title_type,genres&ref_=adv_prv'\n",
    "    response = requests.get(url)\n",
    "    soup = BeautifulSoup(response.content)\n",
    "\n",
    "    descriptions = soup.find_all('p', attrs={'class': 'text-muted'})\n",
    "    for i in descriptions:\n",
    "        if descriptions.index(i) % 2 == 1:\n",
    "            romance_descriptions.append(i.text)\n",
    "\n"
   ]
  },
  {
   "cell_type": "code",
   "execution_count": 96,
   "metadata": {},
   "outputs": [],
   "source": [
    "pages = np.arange(50, 10000, 50) + 1\n",
    "\n",
    "\n",
    "for i in pages:\n",
    "    time.sleep(random.randint(2,4))\n",
    "\n",
    "    url = 'https://www.imdb.com/search/title/?genres=comedy&start={i}&explore=title_type,genres&ref_=adv_prv'\n",
    "    response = requests.get(url)\n",
    "    soup = BeautifulSoup(response.content)\n",
    "\n",
    "    descriptions = soup.find_all('p', attrs={'class': 'text-muted'})\n",
    "    for i in descriptions:\n",
    "        if descriptions.index(i) % 2 == 1:\n",
    "            romance_descriptions.append(i.text)"
   ]
  },
  {
   "cell_type": "code",
   "execution_count": 99,
   "metadata": {},
   "outputs": [],
   "source": [
    "clean_film_descriptions = [i.strip().replace('\\n', '') for i in romance_descriptions]\n"
   ]
  },
  {
   "cell_type": "code",
   "execution_count": 100,
   "metadata": {},
   "outputs": [],
   "source": [
    "film_df = pd.Series(clean_film_descriptions)"
   ]
  },
  {
   "cell_type": "code",
   "execution_count": 102,
   "metadata": {},
   "outputs": [],
   "source": [
    "film_df.to_csv('films_clean.csv')"
   ]
  },
  {
   "cell_type": "code",
   "execution_count": null,
   "metadata": {},
   "outputs": [],
   "source": []
  }
 ],
 "metadata": {
  "kernelspec": {
   "display_name": "Python 3.9.13 ('ironclasses')",
   "language": "python",
   "name": "python3"
  },
  "language_info": {
   "codemirror_mode": {
    "name": "ipython",
    "version": 3
   },
   "file_extension": ".py",
   "mimetype": "text/x-python",
   "name": "python",
   "nbconvert_exporter": "python",
   "pygments_lexer": "ipython3",
   "version": "3.9.13"
  },
  "orig_nbformat": 4,
  "vscode": {
   "interpreter": {
    "hash": "5bfe8cd4d37db90c8b9468f14ce817f9cd906576255a34a1d0cefacef45ef3b9"
   }
  }
 },
 "nbformat": 4,
 "nbformat_minor": 2
}
